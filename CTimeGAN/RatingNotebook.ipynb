{
  "nbformat": 4,
  "nbformat_minor": 0,
  "metadata": {
    "colab": {
      "name": "RatingNotebook.ipynb",
      "provenance": [],
      "authorship_tag": "ABX9TyNL7BR+RWj1o9yyWwlv4IQW",
      "include_colab_link": true
    },
    "kernelspec": {
      "name": "python3",
      "display_name": "Python 3"
    },
    "language_info": {
      "name": "python"
    },
    "accelerator": "GPU"
  },
  "cells": [
    {
      "cell_type": "markdown",
      "metadata": {
        "id": "view-in-github",
        "colab_type": "text"
      },
      "source": [
        "<a href=\"https://colab.research.google.com/github/kevinkamm/RatingML/blob/main/DeepNeuralNetwork/RatingNotebook.ipynb\" target=\"_parent\"><img src=\"https://colab.research.google.com/assets/colab-badge.svg\" alt=\"Open In Colab\"/></a>"
      ]
    },
    {
      "cell_type": "code",
      "execution_count": null,
      "metadata": {
        "colab": {
          "base_uri": "https://localhost:8080/"
        },
        "id": "RbyaisSIh7yi",
        "outputId": "66b510c1-67b5-44b3-b76c-6945aa0aaf43"
      },
      "outputs": [
        {
          "output_type": "stream",
          "name": "stdout",
          "text": [
            "Cloning into 'RatingML'...\n",
            "remote: Enumerating objects: 458, done.\u001b[K\n",
            "remote: Counting objects: 100% (458/458), done.\u001b[K\n",
            "remote: Compressing objects: 100% (336/336), done.\u001b[K\n",
            "remote: Total 458 (delta 149), reused 417 (delta 118), pack-reused 0\u001b[K\n",
            "Receiving objects: 100% (458/458), 1.85 MiB | 6.43 MiB/s, done.\n",
            "Resolving deltas: 100% (149/149), done.\n",
            "fatal: not a git repository (or any of the parent directories): .git\n"
          ]
        }
      ],
      "source": [
        "!git clone https://github.com/kevinkamm/RatingML.git\n",
        "!git remote add origin https://github.com/kevinkamm/RatingML.git"
      ]
    },
    {
      "cell_type": "code",
      "source": [
        "ls"
      ],
      "metadata": {
        "colab": {
          "base_uri": "https://localhost:8080/"
        },
        "id": "Yq0njRfBoSSj",
        "outputId": "79c1fca3-503d-432d-beff-b579afff0a7e"
      },
      "execution_count": null,
      "outputs": [
        {
          "output_type": "stream",
          "name": "stdout",
          "text": [
            "\u001b[0m\u001b[01;34mRatingML\u001b[0m/  \u001b[01;34msample_data\u001b[0m/\n"
          ]
        }
      ]
    },
    {
      "cell_type": "code",
      "source": [
        "cd 'RatingML'"
      ],
      "metadata": {
        "colab": {
          "base_uri": "https://localhost:8080/"
        },
        "id": "1GG0vB1MoJpH",
        "outputId": "ca9ed478-39bd-48e6-fde5-a5471d3be9e0"
      },
      "execution_count": null,
      "outputs": [
        {
          "output_type": "stream",
          "name": "stdout",
          "text": [
            "/content/RatingML\n"
          ]
        }
      ]
    },
    {
      "cell_type": "code",
      "source": [
        "import tensorflow\n",
        "print(tensorflow.__version__)"
      ],
      "metadata": {
        "id": "zWeyJeKSH85T",
        "outputId": "1c85fe11-1164-4688-adb1-cb5625930ba5",
        "colab": {
          "base_uri": "https://localhost:8080/"
        }
      },
      "execution_count": null,
      "outputs": [
        {
          "output_type": "stream",
          "name": "stdout",
          "text": [
            "2.8.0\n"
          ]
        }
      ]
    },
    {
      "cell_type": "code",
      "source": [
        "# from RatingTimeGAN import timeGAN as tg\n",
        "# from RatingTimeGAN import loadRatingMatrices as lrm\n",
        "# from RatingTimeGAN import brownianMotion as bm\n",
        "from RatingTimeGAN import TimeGAN,BrownianMotion,getTimeIndex,RML\n",
        "\n",
        "import numpy as np\n",
        "import tensorflow as tf\n",
        "\n",
        "from typing import List\n",
        "\n",
        "import time as timer\n",
        "\n",
        "#tf.config.set_visible_devices([], 'GPU')\n",
        "print(tf.config.experimental.get_synchronous_execution())\n",
        "print(tf.config.experimental.list_physical_devices())\n",
        "print(tf.config.threading.get_inter_op_parallelism_threads())\n",
        "print(tf.config.threading.get_intra_op_parallelism_threads())\n",
        "\n",
        "'Data type for computations'\n",
        "# use single precision for GeForce GPUs\n",
        "dtype = np.float32\n",
        "\n",
        "# seed for reproducibility\n",
        "seed = 0\n",
        "tf.random.set_seed(seed)\n",
        "\n",
        "'Parameters for Brownian motion'\n",
        "# time steps of Brownian motion, has to be such that mod(N-1,12)=0\n",
        "N = 5 * 12 + 1\n",
        "# trajectories of Brownian motion will be equal to batch_size for training\n",
        "# M = batch_size = 1\n",
        "\n",
        "'Load rating matrices'\n",
        "# choose between 1,3,6,12 months\n",
        "times = np.array([1, 3, 6, 12])\n",
        "lenSeq = times.size\n",
        "T = times[-1] / 12\n",
        "\n",
        "# Brownian motion class with fixed datatype\n",
        "BM = BrownianMotion(T, N, dtype=dtype, seed=seed)\n",
        "timeIndices = getTimeIndex(T, N, times / 12)\n",
        "\n",
        "# relative path to rating matrices:\n",
        "filePaths: List[str] = ['Data/'+'SP_' + str(x) + '_month_small' for x in times]\n",
        "# exclude default row, don't change\n",
        "# excludeDefaultRow = False\n",
        "# permuteTimeSeries, don't change\n",
        "# permuteTimeSeries = True\n",
        "# load rating matrices\n",
        "RML = RML(filePaths,\n",
        "              dtype=dtype)\n",
        "print('Load data')\n",
        "ticRML = timer.time()\n",
        "RML.loadData()\n",
        "ctimeRML = timer.time() - ticRML\n",
        "print(f'Elapsed time for loading data {ctimeRML} s.')\n",
        "\n",
        "'Build GAN'\n",
        "# training data\n",
        "rm_train = RML.tfData()\n",
        "print(f'Data shape: (Data,Time Seq,From Rating*To Rating)={rm_train.shape}')\n",
        "# number of ratings\n",
        "Krows = RML.Krows\n",
        "Kcols = RML.Kcols\n",
        "# batch size\n",
        "batch_size = 128\n",
        "\n",
        "# buffer size should be greater or equal number of data,\n",
        "# is only important if data doesn't fit in RAM\n",
        "buffer_size = rm_train.shape[0]\n",
        "\n",
        "dataset = tf.data.Dataset.from_tensor_slices(rm_train)\n",
        "dataset = dataset.shuffle(buffer_size, reshuffle_each_iteration=True).batch(batch_size)\n",
        "\n",
        "epochs = 20\n",
        "saveDir = 'RatingTimeGAN/modelParams/Colab'\n",
        "tGAN = TimeGAN(lenSeq, Krows, Kcols, batch_size, BM, timeIndices, dtype=dtype)\n",
        "tGAN.trainTimeGAN(dataset, epochs, loadDir=saveDir)\n",
        "tGAN.save(saveDir)\n",
        "samples = tGAN.sample(10)\n",
        "print(samples.shape)\n",
        "for wi in range(0, 3):\n",
        "    print(f'Trajectory {wi}\\n')\n",
        "    for ti in range(0, samples.shape[1]):\n",
        "        print(f'Time {timeIndices[ti]}')\n",
        "        print(samples[wi, ti, :, :])\n",
        "        print(np.sum(samples[wi, ti, :, :], axis=1))\n",
        "\n",
        "saveCSVDir = 'RatingTimeGAN/CSV'\n",
        "print('Save CSV')\n",
        "ticCSV=timer.time()\n",
        "tGAN.exportToCSV(2,saveCSVDir,ratings = RML.ratings)\n",
        "ctimeCSV=timer.time()-ticCSV\n",
        "print(f'Elapsed time for saving CSV files: {ctimeCSV} s')"
      ],
      "metadata": {
        "colab": {
          "base_uri": "https://localhost:8080/"
        },
        "id": "N97avTrmoXEz",
        "outputId": "9737fe3d-a6b6-4228-e668-2dc064a63885"
      },
      "execution_count": null,
      "outputs": [
        {
          "output_type": "stream",
          "name": "stdout",
          "text": [
            "True\n",
            "[PhysicalDevice(name='/physical_device:CPU:0', device_type='CPU'), PhysicalDevice(name='/physical_device:GPU:0', device_type='GPU')]\n",
            "0\n",
            "0\n",
            "Load data\n",
            "Elapsed time for loading data 4.283725261688232 s.\n",
            "Data shape: (Data,Time Seq,From Rating*To Rating)=(629856, 4, 16)\n",
            "WARNING:tensorflow:No training configuration found in save file, so the model was *not* compiled. Compile it manually.\n",
            "WARNING:tensorflow:No training configuration found in save file, so the model was *not* compiled. Compile it manually.\n",
            "WARNING:tensorflow:No training configuration found in save file, so the model was *not* compiled. Compile it manually.\n",
            "WARNING:tensorflow:No training configuration found in save file, so the model was *not* compiled. Compile it manually.\n",
            "WARNING:tensorflow:No training configuration found in save file, so the model was *not* compiled. Compile it manually.\n",
            "WARNING:tensorflow:No training configuration found in save file, so the model was *not* compiled. Compile it manually.\n",
            "WARNING:tensorflow:No training configuration found in save file, so the model was *not* compiled. Compile it manually.\n",
            "WARNING:tensorflow:Compiled the loaded model, but the compiled metrics have yet to be built. `model.compile_metrics` will be empty until you train or evaluate the model.\n"
          ]
        },
        {
          "output_type": "stream",
          "name": "stderr",
          "text": [
            "WARNING:absl:Function `_wrapped_model` contains input name(s) Generator_GRU_1_input with unsupported characters which will be renamed to generator_gru_1_input in the SavedModel.\n",
            "WARNING:absl:Found untraced functions such as gru_cell_8_layer_call_fn, gru_cell_8_layer_call_and_return_conditional_losses, gru_cell_9_layer_call_fn, gru_cell_9_layer_call_and_return_conditional_losses, gru_cell_10_layer_call_fn while saving (showing 5 of 6). These functions will not be directly callable after loading.\n"
          ]
        },
        {
          "output_type": "stream",
          "name": "stdout",
          "text": [
            "INFO:tensorflow:Assets written to: /content/RatingML/RatingTimeGAN/modelParams/Colab/AE560_G854_lenSeq4_batch128_epochs20/embeddedGenerator/assets\n"
          ]
        },
        {
          "output_type": "stream",
          "name": "stderr",
          "text": [
            "INFO:tensorflow:Assets written to: /content/RatingML/RatingTimeGAN/modelParams/Colab/AE560_G854_lenSeq4_batch128_epochs20/embeddedGenerator/assets\n",
            "WARNING:absl:<keras.layers.recurrent.GRUCell object at 0x7f6250165b90> has the same name 'GRUCell' as a built-in Keras object. Consider renaming <class 'keras.layers.recurrent.GRUCell'> to avoid naming conflicts when loading with `tf.keras.models.load_model`. If renaming is not possible, pass the object in the `custom_objects` parameter of the load function.\n",
            "WARNING:absl:<keras.layers.recurrent.GRUCell object at 0x7f625016b510> has the same name 'GRUCell' as a built-in Keras object. Consider renaming <class 'keras.layers.recurrent.GRUCell'> to avoid naming conflicts when loading with `tf.keras.models.load_model`. If renaming is not possible, pass the object in the `custom_objects` parameter of the load function.\n",
            "WARNING:absl:<keras.layers.recurrent.GRUCell object at 0x7f62500f3090> has the same name 'GRUCell' as a built-in Keras object. Consider renaming <class 'keras.layers.recurrent.GRUCell'> to avoid naming conflicts when loading with `tf.keras.models.load_model`. If renaming is not possible, pass the object in the `custom_objects` parameter of the load function.\n",
            "Synthetic data generation: 100%|██████████| 10/10 [00:04<00:00,  2.39it/s]\n"
          ]
        },
        {
          "output_type": "stream",
          "name": "stdout",
          "text": [
            "(1280, 4, 4, 4)\n",
            "Trajectory 0\n",
            "\n",
            "Time 5\n",
            "[[9.9414045e-01 5.8828811e-03 6.6160565e-06 3.0921899e-07]\n",
            " [1.0395615e-03 9.9658006e-01 2.4588432e-03 3.0710893e-05]\n",
            " [1.6595744e-05 4.1161403e-03 9.8655409e-01 9.0501653e-03]\n",
            " [2.4027128e-07 1.9028822e-07 1.4560077e-07 9.9999988e-01]]\n",
            "[1.0000303 1.0001092 0.999737  1.0000005]\n",
            "Time 15\n",
            "[[9.9028343e-01 9.7226072e-03 1.8113400e-05 9.1955957e-07]\n",
            " [1.6898537e-03 9.9434328e-01 3.9570983e-03 7.3341304e-05]\n",
            " [3.9740480e-05 7.2807181e-03 9.7559047e-01 1.6250012e-02]\n",
            " [5.4830929e-07 4.5745728e-07 3.7822292e-07 9.9999964e-01]]\n",
            "[1.0000252  1.0000635  0.99916095 1.0000011 ]\n",
            "Time 30\n",
            "[[9.7498453e-01 2.4908675e-02 1.0274399e-04 4.9634441e-06]\n",
            " [4.4010133e-03 9.8642391e-01 8.9946818e-03 2.4095489e-04]\n",
            " [1.8826734e-04 2.2452824e-02 9.4090033e-01 3.5172977e-02]\n",
            " [2.0426448e-06 1.8196464e-06 1.7536124e-06 9.9999833e-01]]\n",
            "[1.000001  1.0000606 0.9987144 1.0000039]\n",
            "Time 60\n",
            "[[9.4309676e-01 5.6361575e-02 5.4543931e-04 2.9719784e-05]\n",
            " [1.0000689e-02 9.6912986e-01 1.9699190e-02 9.7883400e-04]\n",
            " [8.0738362e-04 5.7089798e-02 8.5632294e-01 8.5779086e-02]\n",
            " [8.0435520e-06 7.7616060e-06 8.5119236e-06 9.9999225e-01]]\n",
            "[1.0000334  0.9998086  0.99999917 1.0000166 ]\n",
            "Trajectory 1\n",
            "\n",
            "Time 5\n",
            "[[9.9413836e-01 5.8850031e-03 6.6206512e-06 3.0944790e-07]\n",
            " [1.0399504e-03 9.9657887e-01 2.4596786e-03 3.0727388e-05]\n",
            " [1.6606034e-05 4.1178665e-03 9.8654932e-01 9.0531847e-03]\n",
            " [2.4041705e-07 1.9040732e-07 1.4569925e-07 9.9999988e-01]]\n",
            "[1.0000304  1.0001092  0.99973696 1.0000005 ]\n",
            "Time 15\n",
            "[[9.8941028e-01 1.0589841e-02 2.1588214e-05 1.1171538e-06]\n",
            " [1.8346529e-03 9.9382752e-01 4.2993044e-03 8.5937441e-05]\n",
            " [4.6226342e-05 8.0121225e-03 9.7287917e-01 1.8067217e-02]\n",
            " [6.3525454e-07 5.3500020e-07 4.4810130e-07 9.9999952e-01]]\n",
            "[1.0000228 1.0000473 0.9990048 1.0000012]\n",
            "Time 30\n",
            "[[9.6780336e-01 3.1948570e-02 2.0990890e-04 1.3697870e-05]\n",
            " [5.3739874e-03 9.8097366e-01 1.2554499e-02 6.5224932e-04]\n",
            " [3.2943682e-04 2.7782841e-02 8.9935499e-01 6.7997888e-02]\n",
            " [4.2438915e-06 4.0279351e-06 3.9969023e-06 9.9999619e-01]]\n",
            "[0.99997556 0.99955446 0.99546516 1.0000085 ]\n",
            "Time 60\n",
            "[[9.45106685e-01 5.42008765e-02 6.65148662e-04 5.24478673e-05]\n",
            " [9.22134239e-03 9.66738462e-01 2.17927787e-02 1.92349032e-03]\n",
            " [8.92468845e-04 4.97941338e-02 8.17577124e-01 1.28861427e-01]\n",
            " [1.22450201e-05 1.22162555e-05 1.30562057e-05 9.99987602e-01]]\n",
            "[1.0000252  0.99967605 0.99712515 1.0000252 ]\n",
            "Trajectory 2\n",
            "\n",
            "Time 5\n",
            "[[9.9414003e-01 5.8833966e-03 6.6171738e-06 3.0927444e-07]\n",
            " [1.0396558e-03 9.9657983e-01 2.4590455e-03 3.0714906e-05]\n",
            " [1.6598244e-05 4.1165608e-03 9.8655289e-01 9.0508964e-03]\n",
            " [2.4030655e-07 1.9031691e-07 1.4562464e-07 9.9999988e-01]]\n",
            "[1.0000305  1.0001093  0.99973696 1.0000005 ]\n",
            "Time 15\n",
            "[[9.9047512e-01 9.5321955e-03 1.7396822e-05 8.7954095e-07]\n",
            " [1.6579207e-03 9.9445587e-01 3.8822999e-03 7.0746588e-05]\n",
            " [3.8379720e-05 7.1205758e-03 9.7617173e-01 1.5863113e-02]\n",
            " [5.3014372e-07 4.4136115e-07 3.6381877e-07 9.9999964e-01]]\n",
            "[1.0000255 1.0000668 0.9991938 1.000001 ]\n",
            "Time 30\n",
            "[[9.6950710e-01 3.0296348e-02 1.6963850e-04 9.6224030e-06]\n",
            " [5.2188928e-03 9.8273671e-01 1.1372630e-02 4.4774334e-04]\n",
            " [2.8235960e-04 2.7097315e-02 9.1631091e-01 5.3037807e-02]\n",
            " [3.3114529e-06 3.0667677e-06 3.0328836e-06 9.9999714e-01]]\n",
            "[0.99998266 0.99977595 0.9967284  1.0000066 ]\n",
            "Time 60\n",
            "[[9.4375372e-01 5.5595975e-02 6.4849190e-04 4.5910823e-05]\n",
            " [9.5151523e-03 9.6693176e-01 2.1413807e-02 1.6403071e-03]\n",
            " [8.8813790e-04 5.2593902e-02 8.2507497e-01 1.1813697e-01]\n",
            " [1.0965079e-05 1.0897277e-05 1.1779003e-05 9.9998903e-01]]\n",
            "[1.0000441  0.99950105 0.99669397 1.0000226 ]\n",
            "Save CSV\n"
          ]
        },
        {
          "output_type": "stream",
          "name": "stderr",
          "text": [
            "Synthetic data generation: 100%|██████████| 2/2 [00:00<00:00, 15.59it/s]\n"
          ]
        },
        {
          "output_type": "stream",
          "name": "stdout",
          "text": [
            "Elapsed time for saving CSV files: 1.8265504837036133 s\n"
          ]
        }
      ]
    },
    {
      "cell_type": "code",
      "source": [
        "!zip -r /content/modelParams.zip /content/RatingML/RatingTimeGAN/modelParams/"
      ],
      "metadata": {
        "id": "RUip6IEXZg58"
      },
      "execution_count": null,
      "outputs": []
    },
    {
      "cell_type": "code",
      "source": [
        "!git config --global user.email 'kevinkamm@t-online.de'\n",
        "!git config --global user.name 'Kevin'\n",
        "!git add -A\n",
        "!git commit -m 'new model parameters'\n",
        "!git pull\n",
        "!git push "
      ],
      "metadata": {
        "id": "yRv7Tr_5gThm",
        "outputId": "90250423-9055-4fcd-aad0-87718e6085b0",
        "colab": {
          "base_uri": "https://localhost:8080/"
        }
      },
      "execution_count": null,
      "outputs": [
        {
          "output_type": "stream",
          "name": "stdout",
          "text": [
            "[main 424d7bc] new model parameters\n",
            " 6 files changed, 0 insertions(+), 0 deletions(-)\n",
            " create mode 100644 RatingTimeGAN/CSV/AE560_G854_lenSeq4_batch128_epochs20_N61.zip\n",
            " rewrite RatingTimeGAN/__pycache__/brownianMotion.cpython-37.pyc (72%)\n",
            " rewrite RatingTimeGAN/__pycache__/timeGAN.cpython-37.pyc (74%)\n",
            "Already up to date.\n",
            "Counting objects: 15, done.\n",
            "Delta compression using up to 2 threads.\n",
            "Compressing objects: 100% (15/15), done.\n",
            "Writing objects: 100% (15/15), 397.41 KiB | 7.95 MiB/s, done.\n",
            "Total 15 (delta 6), reused 0 (delta 0)\n",
            "remote: Resolving deltas: 100% (6/6), completed with 6 local objects.\u001b[K\n",
            "To https://github.com/kevinkamm/RatingML.git\n",
            "   742685f..424d7bc  main -> main\n"
          ]
        }
      ]
    }
  ]
}